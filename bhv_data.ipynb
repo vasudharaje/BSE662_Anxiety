{
  "nbformat": 4,
  "nbformat_minor": 0,
  "metadata": {
    "colab": {
      "provenance": []
    },
    "kernelspec": {
      "name": "python3",
      "display_name": "Python 3"
    },
    "language_info": {
      "name": "python"
    }
  },
  "cells": [
    {
      "cell_type": "code",
      "execution_count": null,
      "metadata": {
        "colab": {
          "base_uri": "https://localhost:8080/"
        },
        "id": "t5ytu2T523Ra",
        "outputId": "483bfa86-76a9-463a-893b-cda726e9f780"
      },
      "outputs": [
        {
          "output_type": "stream",
          "name": "stdout",
          "text": [
            "Drive already mounted at /content/drive; to attempt to forcibly remount, call drive.mount(\"/content/drive\", force_remount=True).\n"
          ]
        }
      ],
      "source": [
        "from google.colab import drive\n",
        "drive.mount('/content/drive')\n",
        "\n",
        "import scipy.io as sio\n",
        "import pandas as pd\n",
        "import numpy as np\n",
        "import os\n",
        "\n",
        "pre_stress_folder = '/content/drive/My Drive/PRE'\n",
        "post_stress_folder = '/content/drive/My Drive/POST'\n"
      ]
    },
    {
      "cell_type": "code",
      "source": [
        "def process_mat_file(mat_file_path, stress_cond):\n",
        "    import scipy.io as sio\n",
        "    import numpy as np\n",
        "    import pandas as pd\n",
        "    import os\n",
        "\n",
        "    mat = sio.loadmat(mat_file_path, squeeze_me=True)\n",
        "    subid = os.path.basename(mat_file_path).replace('.mat', '')\n",
        "\n",
        "    RTs = np.ravel(mat.get(\"ReactionTime\", np.array([])))\n",
        "    start_times = np.ravel(mat.get(\"AbsoluteTrialStartTime\", np.array([])))\n",
        "\n",
        "    if len(RTs) == 0 or len(start_times) == 0:\n",
        "        print(f\"Skipping {subid}: missing ReactionTime or StartTime\")\n",
        "        return pd.DataFrame()\n",
        "\n",
        "    # Step 1: default zero rewards for all valid trials\n",
        "    rewards = np.zeros(np.sum(~np.isnan(RTs)))\n",
        "\n",
        "    # Step 2: Try extracting UserVars.rwrd\n",
        "    UserVars = mat.get(\"UserVars\", {})\n",
        "    raw_rewards = []\n",
        "\n",
        "    if isinstance(UserVars, dict) and 'rwrd' in UserVars:\n",
        "        raw_rewards = UserVars['rwrd']\n",
        "    elif hasattr(UserVars, 'dtype') and 'rwrd' in UserVars.dtype.names:\n",
        "        raw_rewards = UserVars['rwrd']\n",
        "\n",
        "    # Step 3: Flatten\n",
        "    if isinstance(raw_rewards, (np.ndarray, list)):\n",
        "        flat_rewards = []\n",
        "        for r in raw_rewards:\n",
        "            if isinstance(r, (list, np.ndarray)):\n",
        "                flat_rewards.extend(np.ravel(r))\n",
        "            else:\n",
        "                flat_rewards.append(r)\n",
        "        flat_rewards = np.array(flat_rewards).astype(float)\n",
        "\n",
        "        # Step 4: Align reward length with good trials\n",
        "        copy_len = min(len(flat_rewards), len(rewards))\n",
        "        if copy_len > 0:\n",
        "            rewards[:copy_len] = flat_rewards[:copy_len]\n",
        "\n",
        "    # Step 5: Slice valid (non-NaN) trials\n",
        "    valid_idx = np.where(~np.isnan(RTs))[0]\n",
        "    RTs = RTs[valid_idx]\n",
        "    start_times = start_times[valid_idx]\n",
        "    rewards = rewards[:len(valid_idx)]\n",
        "\n",
        "    # Step 6: Find NaN separator\n",
        "    original_RTs = np.ravel(mat.get(\"ReactionTime\", np.array([])))\n",
        "    nan_pos = np.where(np.isnan(original_RTs))[0]\n",
        "    if len(nan_pos) == 0:\n",
        "        envs = ['short'] * len(valid_idx)\n",
        "    else:\n",
        "        split = nan_pos[0]\n",
        "        envs = ['short'] * split + ['long'] * (len(valid_idx) - split)\n",
        "\n",
        "    # Final DataFrame\n",
        "    return pd.DataFrame({\n",
        "        'subid': [subid] * len(valid_idx),\n",
        "        'stress_cond': [stress_cond] * len(valid_idx),\n",
        "        'env': envs,\n",
        "        'trial_time': start_times,\n",
        "        'reaction_time': RTs,\n",
        "        'reward': rewards\n",
        "    })\n",
        "\n"
      ],
      "metadata": {
        "id": "TPmEXguXGMxw"
      },
      "execution_count": 32,
      "outputs": []
    },
    {
      "cell_type": "code",
      "source": [
        "# Define paths to your pre/post .mat files in Drive\n",
        "pre_folder = '/content/drive/MyDrive/PRE'\n",
        "post_folder = '/content/drive/MyDrive/POST'\n",
        "\n",
        "# Get all .mat files\n",
        "pre_files = sorted(glob.glob(os.path.join(pre_folder, '*.mat')))\n",
        "post_files = sorted(glob.glob(os.path.join(post_folder, '*.mat')))\n",
        "\n",
        "# Process and combine\n",
        "df_pre = pd.concat([process_mat_file(f, 'pre') for f in pre_files], ignore_index=True)\n",
        "df_post = pd.concat([process_mat_file(f, 'post') for f in post_files], ignore_index=True)\n",
        "df_all = pd.concat([df_pre, df_post], ignore_index=True)\n",
        "\n",
        "# Print a preview\n",
        "print(\"Combined Data Preview:\")\n",
        "print(df_all.head())\n",
        "print(f\"\\nTotal trials: {len(df_all)}\")\n"
      ],
      "metadata": {
        "colab": {
          "base_uri": "https://localhost:8080/"
        },
        "id": "k-QCTwRbDvbp",
        "outputId": "f96a64dd-f5d6-43a3-b6f5-ee18e2609f42"
      },
      "execution_count": 36,
      "outputs": [
        {
          "output_type": "stream",
          "name": "stdout",
          "text": [
            "Combined Data Preview:\n",
            "             subid stress_cond    env    trial_time  reaction_time    reward\n",
            "0  31730_prestress         pre  short      0.000000         1094.0  6.862794\n",
            "1  31730_prestress         pre  short  11233.907955         1283.0  6.315538\n",
            "2  31730_prestress         pre  short  19343.886757         1198.0  5.592621\n",
            "3  31730_prestress         pre  short  27910.864160         1163.0  4.974894\n",
            "4  31730_prestress         pre  short  35838.928248         1234.0  4.362309\n",
            "\n",
            "Total trials: 923\n"
          ]
        }
      ]
    },
    {
      "cell_type": "code",
      "source": [
        "df_all.to_csv('/content/drive/MyDrive/trial_data_combined_final.csv', index=False)\n",
        "\n"
      ],
      "metadata": {
        "id": "NmKFtrdHH-pf"
      },
      "execution_count": 35,
      "outputs": []
    }
  ]
}